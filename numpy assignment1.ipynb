{
 "cells": [
  {
   "cell_type": "code",
   "execution_count": null,
   "id": "dc1a2547",
   "metadata": {},
   "outputs": [],
   "source": [
    "#Create a null vector of size 10 but the fifth value which is 1."
   ]
  },
  {
   "cell_type": "code",
   "execution_count": 6,
   "id": "28991e0b",
   "metadata": {},
   "outputs": [],
   "source": [
    "import numpy as np\n",
    "nullVector = np.zeros(10,dtype = 'int32')\n",
    "nullVector[4]=1"
   ]
  },
  {
   "cell_type": "code",
   "execution_count": 7,
   "id": "02a52673",
   "metadata": {},
   "outputs": [
    {
     "data": {
      "text/plain": [
       "array([0, 0, 0, 0, 1, 0, 0, 0, 0, 0])"
      ]
     },
     "execution_count": 7,
     "metadata": {},
     "output_type": "execute_result"
    }
   ],
   "source": [
    "nullVector"
   ]
  },
  {
   "cell_type": "code",
   "execution_count": 13,
   "id": "f99488d8",
   "metadata": {},
   "outputs": [],
   "source": [
    "#Create a vector with values ranging from 10 to 49\n",
    "\n",
    "Vector = np.random.randint(10,49)"
   ]
  },
  {
   "cell_type": "code",
   "execution_count": 14,
   "id": "9d091516",
   "metadata": {},
   "outputs": [
    {
     "data": {
      "text/plain": [
       "20"
      ]
     },
     "execution_count": 14,
     "metadata": {},
     "output_type": "execute_result"
    }
   ],
   "source": [
    "Vector"
   ]
  },
  {
   "cell_type": "code",
   "execution_count": 24,
   "id": "cb3f82d2",
   "metadata": {},
   "outputs": [],
   "source": [
    "#Create a 3x3 matrix with values ranging from 0 to 8\n",
    "Matrix3x3 = np.random.randint(0,9,size = (3,3))"
   ]
  },
  {
   "cell_type": "code",
   "execution_count": 25,
   "id": "bd11fba2",
   "metadata": {},
   "outputs": [
    {
     "data": {
      "text/plain": [
       "array([[8, 7, 5],\n",
       "       [6, 0, 7],\n",
       "       [0, 8, 4]])"
      ]
     },
     "execution_count": 25,
     "metadata": {},
     "output_type": "execute_result"
    }
   ],
   "source": [
    "Matrix3x3"
   ]
  },
  {
   "cell_type": "code",
   "execution_count": 30,
   "id": "62ad3aeb",
   "metadata": {},
   "outputs": [
    {
     "data": {
      "text/plain": [
       "(array([0, 1, 4], dtype=int64),)"
      ]
     },
     "execution_count": 30,
     "metadata": {},
     "output_type": "execute_result"
    }
   ],
   "source": [
    "#Find indices of non-zero elements from [1,2,0,0,4,0]\n",
    "a=[1,2,0,0,4,0]\n",
    "np.nonzero(a)"
   ]
  },
  {
   "cell_type": "code",
   "execution_count": null,
   "id": "4bd0cf50",
   "metadata": {},
   "outputs": [],
   "source": [
    "#Create a 10x10 array with random values and find the minimum and maximum values."
   ]
  },
  {
   "cell_type": "code",
   "execution_count": 31,
   "id": "454c743f",
   "metadata": {},
   "outputs": [],
   "source": [
    "array = np.random.randint(0,100,size =(10,10))"
   ]
  },
  {
   "cell_type": "code",
   "execution_count": 32,
   "id": "4fea2ca4",
   "metadata": {},
   "outputs": [
    {
     "data": {
      "text/plain": [
       "array([[ 5, 53, 30, 75,  4, 38, 19,  5, 43, 52],\n",
       "       [34, 39, 97, 86, 98, 65, 13, 21, 41, 36],\n",
       "       [71, 72, 85, 52, 41, 87, 70,  3, 69, 99],\n",
       "       [23, 14, 68, 51,  9, 11, 41, 19, 25,  9],\n",
       "       [38, 89, 37, 34,  9, 98, 72,  0, 26, 83],\n",
       "       [33, 24, 31, 27, 59, 96, 69, 53, 21, 98],\n",
       "       [ 6, 78, 22, 55, 63, 12, 98, 45,  8, 19],\n",
       "       [62, 90, 56,  9,  6, 36, 66, 53, 35, 44],\n",
       "       [44, 66, 35, 76, 15, 79, 24,  1, 36, 11],\n",
       "       [90, 66, 26, 34, 83, 10, 60,  6, 52,  5]])"
      ]
     },
     "execution_count": 32,
     "metadata": {},
     "output_type": "execute_result"
    }
   ],
   "source": [
    "array"
   ]
  },
  {
   "cell_type": "code",
   "execution_count": 35,
   "id": "aa695ad4",
   "metadata": {},
   "outputs": [
    {
     "data": {
      "text/plain": [
       "0"
      ]
     },
     "execution_count": 35,
     "metadata": {},
     "output_type": "execute_result"
    }
   ],
   "source": [
    "array.min()"
   ]
  },
  {
   "cell_type": "code",
   "execution_count": 37,
   "id": "40ef6ddf",
   "metadata": {},
   "outputs": [
    {
     "data": {
      "text/plain": [
       "99"
      ]
     },
     "execution_count": 37,
     "metadata": {},
     "output_type": "execute_result"
    }
   ],
   "source": [
    "array.max()"
   ]
  },
  {
   "cell_type": "code",
   "execution_count": 38,
   "id": "a3c8a7b3",
   "metadata": {},
   "outputs": [],
   "source": [
    "#Create a random vector of size 30 and find the mean value.\n",
    "randomvector = np.random.rand(30)"
   ]
  },
  {
   "cell_type": "code",
   "execution_count": 39,
   "id": "8b980efa",
   "metadata": {},
   "outputs": [
    {
     "data": {
      "text/plain": [
       "array([0.49748272, 0.38284596, 0.68397872, 0.65658706, 0.82095971,\n",
       "       0.31788625, 0.7047129 , 0.82431364, 0.42417598, 0.13104101,\n",
       "       0.34855797, 0.65772506, 0.92141586, 0.54975435, 0.5449306 ,\n",
       "       0.1402983 , 0.8225377 , 0.55120707, 0.74898083, 0.30809001,\n",
       "       0.92433274, 0.51107604, 0.27220473, 0.15795178, 0.2197519 ,\n",
       "       0.84096659, 0.14089805, 0.12508833, 0.9275724 , 0.02196727])"
      ]
     },
     "execution_count": 39,
     "metadata": {},
     "output_type": "execute_result"
    }
   ],
   "source": [
    "randomvector"
   ]
  },
  {
   "cell_type": "code",
   "execution_count": 40,
   "id": "8c5345cd",
   "metadata": {},
   "outputs": [
    {
     "data": {
      "text/plain": [
       "0.5059763839676455"
      ]
     },
     "execution_count": 40,
     "metadata": {},
     "output_type": "execute_result"
    }
   ],
   "source": [
    "randomvector.mean()"
   ]
  },
  {
   "cell_type": "code",
   "execution_count": null,
   "id": "98082bfe",
   "metadata": {},
   "outputs": [],
   "source": []
  }
 ],
 "metadata": {
  "kernelspec": {
   "display_name": "Python 3 (ipykernel)",
   "language": "python",
   "name": "python3"
  },
  "language_info": {
   "codemirror_mode": {
    "name": "ipython",
    "version": 3
   },
   "file_extension": ".py",
   "mimetype": "text/x-python",
   "name": "python",
   "nbconvert_exporter": "python",
   "pygments_lexer": "ipython3",
   "version": "3.9.12"
  }
 },
 "nbformat": 4,
 "nbformat_minor": 5
}
